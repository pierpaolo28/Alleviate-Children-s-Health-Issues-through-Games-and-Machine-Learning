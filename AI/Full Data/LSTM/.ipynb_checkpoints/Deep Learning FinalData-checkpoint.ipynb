{
 "cells": [
  {
   "cell_type": "code",
   "execution_count": 1,
   "metadata": {},
   "outputs": [],
   "source": [
    "import pandas as pd\n",
    "import numpy as np\n",
    "import pickle\n",
    "import matplotlib.pyplot as plt\n",
    "from scipy import stats\n",
    "import tensorflow as tf\n",
    "import seaborn as sns\n",
    "from pylab import rcParams\n",
    "from sklearn import metrics\n",
    "from sklearn.model_selection import train_test_split\n",
    "from sklearn.preprocessing import StandardScaler\n",
    "\n",
    "%matplotlib inline\n",
    "\n",
    "sns.set(style='whitegrid', palette='muted', font_scale=1.5)\n",
    "\n",
    "rcParams['figure.figsize'] = 14, 8\n",
    "\n",
    "RANDOM_SEED = 42"
   ]
  },
  {
   "cell_type": "code",
   "execution_count": 2,
   "metadata": {},
   "outputs": [
    {
     "name": "stdout",
     "output_type": "stream",
     "text": [
      "<class 'pandas.core.frame.DataFrame'>\n",
      "RangeIndex: 1906500 entries, 0 to 1906499\n",
      "Columns: 129 entries, CH1 to Label\n",
      "dtypes: float64(129)\n",
      "memory usage: 1.8 GB\n"
     ]
    }
   ],
   "source": [
    "df=pd.read_csv('FinalData.csv')\n",
    "# df.head(22)\n",
    "df.info()"
   ]
  },
  {
   "cell_type": "code",
   "execution_count": 3,
   "metadata": {},
   "outputs": [],
   "source": [
    "N_TIME_STEPS = 250\n",
    "N_FEATURES = 128 #128\n",
    "step = 25 # 20\n",
    "segments = []\n",
    "for i in range(0, len(df) - N_TIME_STEPS, step):\n",
    "    ch = []\n",
    "    for j in range(0, N_FEATURES):\n",
    "        ch.append(df.iloc[:, j].values[i: i + N_TIME_STEPS])\n",
    "    segments.append(ch)"
   ]
  },
  {
   "cell_type": "code",
   "execution_count": 4,
   "metadata": {},
   "outputs": [],
   "source": [
    "labels = []\n",
    "for i in range(0, len(df) - N_TIME_STEPS, step):\n",
    "    label = stats.mode(df['Label'][i: i + N_TIME_STEPS])[0][0]\n",
    "    labels.append(label)\n",
    "labelsl = np.asarray(pd.get_dummies(labels), dtype = np.float32)\n",
    "#print(labelsl)"
   ]
  },
  {
   "cell_type": "code",
   "execution_count": 5,
   "metadata": {},
   "outputs": [],
   "source": [
    "reshaped_segments = np.asarray(segments, dtype= np.float32).reshape(-1, N_TIME_STEPS, N_FEATURES)\n",
    "X_train, X_test, y_train, y_test = train_test_split(\n",
    "        reshaped_segments, labelsl, test_size=0.3, random_state=RANDOM_SEED)"
   ]
  },
  {
   "cell_type": "code",
   "execution_count": 6,
   "metadata": {},
   "outputs": [],
   "source": [
    "#print(np.array(segments).shape, reshaped_segments.shape, labelsl[0], len(X_train), len(X_test))\n",
    "# del df\n",
    "# del reshaped_segments\n",
    "# del segments"
   ]
  },
  {
   "cell_type": "markdown",
   "metadata": {},
   "source": [
    "# Building the model"
   ]
  },
  {
   "cell_type": "code",
   "execution_count": 7,
   "metadata": {},
   "outputs": [],
   "source": [
    "N_CLASSES = 2\n",
    "N_HIDDEN_UNITS = 32"
   ]
  },
  {
   "cell_type": "code",
   "execution_count": 8,
   "metadata": {},
   "outputs": [],
   "source": [
    "# https://medium.com/@curiousily/human-activity-recognition-using-lstms-on-android-tensorflow-for-hackers-part-vi-492da5adef64\n",
    "def create_LSTM_model(inputs):\n",
    "    W = {\n",
    "        'hidden': tf.Variable(tf.random_normal([N_FEATURES, N_HIDDEN_UNITS])),\n",
    "        'output': tf.Variable(tf.random_normal([N_HIDDEN_UNITS, N_CLASSES]))\n",
    "    }\n",
    "    biases = {\n",
    "        'hidden': tf.Variable(tf.random_normal([N_HIDDEN_UNITS], mean=1.0)),\n",
    "        'output': tf.Variable(tf.random_normal([N_CLASSES]))\n",
    "    }\n",
    "    \n",
    "    X = tf.transpose(inputs, [1, 0, 2])\n",
    "    X = tf.reshape(X, [-1, N_FEATURES])\n",
    "    hidden = tf.nn.relu(tf.matmul(X, W['hidden']) + biases['hidden'])\n",
    "    hidden = tf.split(hidden, N_TIME_STEPS, 0)\n",
    "\n",
    "    # Stack 2 LSTM layers\n",
    "    lstm_layers = [tf.contrib.rnn.BasicLSTMCell(N_HIDDEN_UNITS, forget_bias=1.0) for _ in range(2)]\n",
    "    lstm_layers = tf.contrib.rnn.MultiRNNCell(lstm_layers)\n",
    "\n",
    "    outputs, _ = tf.contrib.rnn.static_rnn(lstm_layers, hidden, dtype=tf.float32)\n",
    "\n",
    "    # Get output for the last time step\n",
    "    lstm_last_output = outputs[-1]\n",
    "\n",
    "    return tf.matmul(lstm_last_output, W['output']) + biases['output']"
   ]
  },
  {
   "cell_type": "code",
   "execution_count": 9,
   "metadata": {},
   "outputs": [],
   "source": [
    "tf.reset_default_graph()\n",
    "\n",
    "X = tf.placeholder(tf.float32, [None, N_TIME_STEPS, N_FEATURES], name=\"input\")\n",
    "Y = tf.placeholder(tf.float32, [None, N_CLASSES])"
   ]
  },
  {
   "cell_type": "code",
   "execution_count": 10,
   "metadata": {},
   "outputs": [],
   "source": [
    "pred_Y = create_LSTM_model(X)\n",
    "\n",
    "pred_softmax = tf.nn.softmax(pred_Y, name=\"y_\")"
   ]
  },
  {
   "cell_type": "code",
   "execution_count": 11,
   "metadata": {},
   "outputs": [],
   "source": [
    "L2_LOSS = 0.0015\n",
    "\n",
    "l2 = L2_LOSS * \\\n",
    "    sum(tf.nn.l2_loss(tf_var) for tf_var in tf.trainable_variables())\n",
    "\n",
    "loss = tf.reduce_mean(tf.nn.softmax_cross_entropy_with_logits(logits = pred_Y, labels = Y)) + l2"
   ]
  },
  {
   "cell_type": "code",
   "execution_count": 12,
   "metadata": {},
   "outputs": [],
   "source": [
    "LEARNING_RATE = 0.0025\n",
    "\n",
    "optimizer = tf.train.AdamOptimizer(learning_rate=LEARNING_RATE).minimize(loss)\n",
    "\n",
    "correct_pred = tf.equal(tf.argmax(pred_softmax, 1), tf.argmax(Y, 1))\n",
    "accuracy = tf.reduce_mean(tf.cast(correct_pred, dtype=tf.float32))"
   ]
  },
  {
   "cell_type": "markdown",
   "metadata": {},
   "source": [
    "# Training"
   ]
  },
  {
   "cell_type": "code",
   "execution_count": 13,
   "metadata": {},
   "outputs": [],
   "source": [
    "N_EPOCHS = 50  # 50\n",
    "BATCH_SIZE = 256  # 1024"
   ]
  },
  {
   "cell_type": "code",
   "execution_count": 14,
   "metadata": {
    "scrolled": false
   },
   "outputs": [
    {
     "name": "stdout",
     "output_type": "stream",
     "text": [
      "epoch: 1 test accuracy: 0.6118032932281494 loss: 2.5684688091278076\n",
      "epoch: 2 test accuracy: 0.6243060231208801 loss: 1.7545182704925537\n",
      "epoch: 3 test accuracy: 0.6711257100105286 loss: 1.2619996070861816\n",
      "epoch: 4 test accuracy: 0.6800000071525574 loss: 1.011061429977417\n",
      "epoch: 5 test accuracy: 0.702382504940033 loss: 0.8562345504760742\n",
      "epoch: 6 test accuracy: 0.7702295184135437 loss: 0.6937601566314697\n",
      "epoch: 7 test accuracy: 0.7656830549240112 loss: 0.6572901010513306\n",
      "epoch: 8 test accuracy: 0.8242623209953308 loss: 0.543678879737854\n",
      "epoch: 9 test accuracy: 0.8229070901870728 loss: 0.5198442339897156\n",
      "epoch: 10 test accuracy: 0.8916721343994141 loss: 0.39188259840011597\n",
      "epoch: 11 test accuracy: 0.8714753985404968 loss: 0.4164002537727356\n",
      "epoch: 12 test accuracy: 0.9058797955513 loss: 0.34885913133621216\n",
      "epoch: 13 test accuracy: 0.8671038150787354 loss: 0.42039692401885986\n",
      "epoch: 14 test accuracy: 0.9237158298492432 loss: 0.301808625459671\n",
      "epoch: 15 test accuracy: 0.9280437231063843 loss: 0.293853759765625\n",
      "epoch: 16 test accuracy: 0.9337267875671387 loss: 0.27200374007225037\n",
      "epoch: 17 test accuracy: 0.9365683197975159 loss: 0.26243898272514343\n",
      "epoch: 18 test accuracy: 0.9393661022186279 loss: 0.2660514712333679\n",
      "epoch: 19 test accuracy: 0.92402184009552 loss: 0.29361653327941895\n",
      "epoch: 20 test accuracy: 0.9248087406158447 loss: 0.280854731798172\n",
      "epoch: 21 test accuracy: 0.9429945349693298 loss: 0.2487581968307495\n",
      "epoch: 22 test accuracy: 0.952262282371521 loss: 0.22244399785995483\n",
      "epoch: 23 test accuracy: 0.9550601243972778 loss: 0.21271300315856934\n",
      "epoch: 24 test accuracy: 0.9490272998809814 loss: 0.2249094396829605\n",
      "epoch: 25 test accuracy: 0.9499016404151917 loss: 0.22356955707073212\n",
      "epoch: 26 test accuracy: 0.9537048935890198 loss: 0.21349379420280457\n",
      "epoch: 27 test accuracy: 0.9586448073387146 loss: 0.20318514108657837\n",
      "epoch: 28 test accuracy: 0.9568524360656738 loss: 0.20390968024730682\n",
      "epoch: 29 test accuracy: 0.9505136609077454 loss: 0.22578518092632294\n",
      "epoch: 30 test accuracy: 0.9589071273803711 loss: 0.19915363192558289\n",
      "epoch: 31 test accuracy: 0.9449617266654968 loss: 0.24285006523132324\n",
      "epoch: 32 test accuracy: 0.9544481039047241 loss: 0.2065364122390747\n",
      "epoch: 33 test accuracy: 0.9534863233566284 loss: 0.2154860943555832\n",
      "epoch: 34 test accuracy: 0.9629727005958557 loss: 0.1869317591190338\n",
      "epoch: 35 test accuracy: 0.9528743028640747 loss: 0.21775805950164795\n",
      "epoch: 36 test accuracy: 0.9625355005264282 loss: 0.1950688660144806\n",
      "epoch: 37 test accuracy: 0.9597377181053162 loss: 0.20305678248405457\n",
      "epoch: 38 test accuracy: 0.9609180092811584 loss: 0.18695130944252014\n",
      "epoch: 39 test accuracy: 0.9638907313346863 loss: 0.18611043691635132\n",
      "epoch: 40 test accuracy: 0.9699671864509583 loss: 0.16401168704032898\n",
      "epoch: 41 test accuracy: 0.9542295336723328 loss: 0.2071947604417801\n",
      "epoch: 42 test accuracy: 0.967125654220581 loss: 0.1780594438314438\n",
      "epoch: 43 test accuracy: 0.9666010737419128 loss: 0.17718955874443054\n",
      "epoch: 44 test accuracy: 0.9638907313346863 loss: 0.1871069073677063\n",
      "epoch: 45 test accuracy: 0.9713661074638367 loss: 0.16099700331687927\n",
      "epoch: 46 test accuracy: 0.9695300459861755 loss: 0.169712096452713\n",
      "epoch: 47 test accuracy: 0.9739453792572021 loss: 0.1588108390569687\n",
      "epoch: 48 test accuracy: 0.9627978205680847 loss: 0.18608933687210083\n",
      "epoch: 49 test accuracy: 0.9473661184310913 loss: 0.22979983687400818\n",
      "epoch: 50 test accuracy: 0.9693551659584045 loss: 0.16487213969230652\n",
      "\n",
      "final results: accuracy: 0.9693551659584045 loss: 0.16487213969230652\n"
     ]
    }
   ],
   "source": [
    "saver = tf.train.Saver()\n",
    "\n",
    "history = dict(train_loss=[], \n",
    "                     train_acc=[], \n",
    "                     test_loss=[], \n",
    "                     test_acc=[])\n",
    "\n",
    "sess=tf.InteractiveSession()\n",
    "sess.run(tf.global_variables_initializer())\n",
    "\n",
    "train_count = len(X_train)\n",
    "\n",
    "for i in range(1, N_EPOCHS + 1):\n",
    "    for start, end in zip(range(0, train_count, BATCH_SIZE),\n",
    "                          range(BATCH_SIZE, train_count + 1,BATCH_SIZE)):\n",
    "        sess.run(optimizer, feed_dict={X: X_train[start:end],\n",
    "                                       Y: y_train[start:end]})\n",
    "\n",
    "    _, acc_train, loss_train = sess.run([pred_softmax, accuracy, loss], feed_dict={\n",
    "                                            X: X_train, Y: y_train})\n",
    "\n",
    "    _, acc_test, loss_test = sess.run([pred_softmax, accuracy, loss], feed_dict={\n",
    "                                            X: X_test, Y: y_test})\n",
    "\n",
    "    history['train_loss'].append(loss_train)\n",
    "    history['train_acc'].append(acc_train)\n",
    "    history['test_loss'].append(loss_test)\n",
    "    history['test_acc'].append(acc_test)\n",
    "\n",
    "#     if i != 1 and i % 10 != 0:\n",
    "#         continue\n",
    "\n",
    "    print(f'epoch: {i} test accuracy: {acc_test} loss: {loss_test}')\n",
    "    \n",
    "predictions, acc_final, loss_final = sess.run([pred_softmax, accuracy, loss], feed_dict={X: X_test, Y: y_test})\n",
    "\n",
    "print()\n",
    "print(f'final results: accuracy: {acc_final} loss: {loss_final}')"
   ]
  },
  {
   "cell_type": "markdown",
   "metadata": {},
   "source": [
    "# Evaluation"
   ]
  },
  {
   "cell_type": "code",
   "execution_count": 15,
   "metadata": {},
   "outputs": [
    {
     "data": {
      "image/png": "[encoded data removed]",
      "text/plain": [
       "<Figure size 864x576 with 1 Axes>"
      ]
     },
     "metadata": {
      "needs_background": "light"
     },
     "output_type": "display_data"
    }
   ],
   "source": [
    "# https://medium.com/@curiousily/human-activity-recognition-using-lstms-on-android-tensorflow-for-hackers-part-vi-492da5adef64\n",
    "plt.figure(figsize=(12, 8))\n",
    "\n",
    "plt.plot(np.array(history['train_loss']), \"r--\", label=\"Train loss\")\n",
    "plt.plot(np.array(history['train_acc']), \"g--\", label=\"Train accuracy\")\n",
    "\n",
    "plt.plot(np.array(history['test_loss']), \"r-\", label=\"Test loss\")\n",
    "plt.plot(np.array(history['test_acc']), \"g-\", label=\"Test accuracy\")\n",
    "\n",
    "plt.title(\"Training session's progress over iterations\")\n",
    "plt.legend(loc='upper right', shadow=True)\n",
    "plt.ylabel('Training Progress (Loss or Accuracy values)')\n",
    "plt.xlabel('Training Epoch')\n",
    "plt.ylim(0)\n",
    "\n",
    "plt.show()"
   ]
  },
  {
   "cell_type": "markdown",
   "metadata": {},
   "source": [
    "# Saving Model"
   ]
  },
  {
   "cell_type": "code",
   "execution_count": 16,
   "metadata": {},
   "outputs": [],
   "source": [
    "import os\n",
    "\n",
    "file_info = [N_HIDDEN_UNITS, BATCH_SIZE, N_EPOCHS]\n",
    "\n",
    "dirname = os.path.dirname(\"nhid-{}_bat-{}_nepoc-{}/dumps/\".format(*file_info))\n",
    "if not os.path.exists(dirname):\n",
    "    os.makedirs(dirname)\n",
    "dirname = os.path.dirname(\"nhid-{}_bat-{}_nepoc-{}/logs/\".format(*file_info))\n",
    "if not os.path.exists(dirname):\n",
    "    os.makedirs(dirname)\n",
    "\n",
    "pickle.dump(predictions, open(\"nhid-{}_bat-{}_nepoc-{}/dumps/predictions.p\".format(*file_info), \"wb\"))\n",
    "pickle.dump(history, open(\"nhid-{}_bat-{}_nepoc-{}/dumps/history.p\".format(*file_info), \"wb\"))\n",
    "tf.train.write_graph(sess.graph, \"nhid-{}_bat-{}_nepoc-{}/logs\".format(*file_info), 'har.pbtxt')  \n",
    "saver.save(sess, 'nhid-{}_bat-{}_nepoc-{}/logs/har.ckpt'.format(*file_info))\n",
    "\n",
    "writer = tf.summary.FileWriter('nhid-{}_bat-{}_nepoc-{}/logs'.format(*file_info))\n",
    "writer.add_graph(sess.graph)"
   ]
  }
 ],
 "metadata": {
  "kernelspec": {
   "display_name": "Python 3",
   "language": "python",
   "name": "python3"
  },
  "language_info": {
   "codemirror_mode": {
    "name": "ipython",
    "version": 3
   },
   "file_extension": ".py",
   "mimetype": "text/x-python",
   "name": "python",
   "nbconvert_exporter": "python",
   "pygments_lexer": "ipython3",
   "version": "3.7.0"
  }
 },
 "nbformat": 4,
 "nbformat_minor": 2
}
