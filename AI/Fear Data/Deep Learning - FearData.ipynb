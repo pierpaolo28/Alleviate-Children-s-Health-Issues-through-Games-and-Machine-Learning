{
 "cells": [
  {
   "cell_type": "code",
   "execution_count": 1,
   "metadata": {},
   "outputs": [
    {
     "name": "stderr",
     "output_type": "stream",
     "text": [
      "C:\\Apps\\Anaconda3\\lib\\site-packages\\h5py\\__init__.py:36: FutureWarning: Conversion of the second argument of issubdtype from `float` to `np.floating` is deprecated. In future, it will be treated as `np.float64 == np.dtype(float).type`.\n",
      "  from ._conv import register_converters as _register_converters\n"
     ]
    }
   ],
   "source": [
    "import pandas as pd\n",
    "import numpy as np\n",
    "import pickle\n",
    "import matplotlib.pyplot as plt\n",
    "from scipy import stats\n",
    "import tensorflow as tf\n",
    "import seaborn as sns\n",
    "from pylab import rcParams\n",
    "from sklearn import metrics\n",
    "from sklearn.model_selection import train_test_split\n",
    "from sklearn.preprocessing import StandardScaler\n",
    "\n",
    "%matplotlib inline\n",
    "\n",
    "sns.set(style='whitegrid', palette='muted', font_scale=1.5)\n",
    "\n",
    "rcParams['figure.figsize'] = 14, 8\n",
    "\n",
    "RANDOM_SEED = 42"
   ]
  },
  {
   "cell_type": "code",
   "execution_count": 2,
   "metadata": {},
   "outputs": [
    {
     "name": "stdout",
     "output_type": "stream",
     "text": [
      "<class 'pandas.core.frame.DataFrame'>\n",
      "RangeIndex: 381000 entries, 0 to 380999\n",
      "Columns: 129 entries, CH1 to Label\n",
      "dtypes: float64(129)\n",
      "memory usage: 375.0 MB\n"
     ]
    }
   ],
   "source": [
    "df=pd.read_csv('FearData.csv')\n",
    "# df.head(22)\n",
    "df.info()"
   ]
  },
  {
   "cell_type": "code",
   "execution_count": 3,
   "metadata": {},
   "outputs": [],
   "source": [
    "N_TIME_STEPS = 250\n",
    "N_FEATURES = 128 #128\n",
    "step = 10 # 20\n",
    "segments = []\n",
    "for i in range(0, len(df) - N_TIME_STEPS, step):\n",
    "    ch = []\n",
    "    for j in range(0, N_FEATURES):\n",
    "        ch.append(df.iloc[:, j].values[i: i + N_TIME_STEPS])\n",
    "    segments.append(ch)"
   ]
  },
  {
   "cell_type": "code",
   "execution_count": 4,
   "metadata": {},
   "outputs": [],
   "source": [
    "labels = []\n",
    "for i in range(0, len(df) - N_TIME_STEPS, step):\n",
    "    label = stats.mode(df['Label'][i: i + N_TIME_STEPS])[0][0]\n",
    "    labels.append(label)\n",
    "labelsl = np.asarray(pd.get_dummies(labels), dtype = np.float32)\n",
    "#print(labelsl)"
   ]
  },
  {
   "cell_type": "code",
   "execution_count": 5,
   "metadata": {},
   "outputs": [],
   "source": [
    "reshaped_segments = np.asarray(segments, dtype= np.float32).reshape(-1, N_TIME_STEPS, N_FEATURES)\n",
    "X_train, X_test, y_train, y_test = train_test_split(\n",
    "        reshaped_segments, labelsl, test_size=0.2, random_state=RANDOM_SEED)"
   ]
  },
  {
   "cell_type": "code",
   "execution_count": 6,
   "metadata": {},
   "outputs": [
    {
     "name": "stdout",
     "output_type": "stream",
     "text": [
      "(38075, 128, 250) (38075, 250, 128) [1. 0.] 30460 7615\n"
     ]
    }
   ],
   "source": [
    "print(np.array(segments).shape, reshaped_segments.shape, labelsl[0], len(X_train), len(X_test))"
   ]
  },
  {
   "cell_type": "markdown",
   "metadata": {},
   "source": [
    "# Building the model"
   ]
  },
  {
   "cell_type": "code",
   "execution_count": 7,
   "metadata": {},
   "outputs": [],
   "source": [
    "N_CLASSES = 2\n",
    "N_HIDDEN_UNITS = 64"
   ]
  },
  {
   "cell_type": "code",
   "execution_count": 8,
   "metadata": {},
   "outputs": [],
   "source": [
    "#https://medium.com/@curiousily/human-activity-recognition-using-lstms-on-android-tensorflow-for-hackers-part-vi-492da5adef64\n",
    "def create_LSTM_model(inputs):\n",
    "    W = {\n",
    "        'hidden': tf.Variable(tf.random_normal([N_FEATURES, N_HIDDEN_UNITS])),\n",
    "        'output': tf.Variable(tf.random_normal([N_HIDDEN_UNITS, N_CLASSES]))\n",
    "    }\n",
    "    biases = {\n",
    "        'hidden': tf.Variable(tf.random_normal([N_HIDDEN_UNITS], mean=1.0)),\n",
    "        'output': tf.Variable(tf.random_normal([N_CLASSES]))\n",
    "    }\n",
    "    \n",
    "    X = tf.transpose(inputs, [1, 0, 2])\n",
    "    X = tf.reshape(X, [-1, N_FEATURES])\n",
    "    hidden = tf.nn.relu(tf.matmul(X, W['hidden']) + biases['hidden'])\n",
    "    hidden = tf.split(hidden, N_TIME_STEPS, 0)\n",
    "\n",
    "    # Stack 2 LSTM layers\n",
    "    lstm_layers = [tf.contrib.rnn.BasicLSTMCell(N_HIDDEN_UNITS, forget_bias=1.0) for _ in range(2)]\n",
    "    lstm_layers = tf.contrib.rnn.MultiRNNCell(lstm_layers)\n",
    "\n",
    "    outputs, _ = tf.contrib.rnn.static_rnn(lstm_layers, hidden, dtype=tf.float32)\n",
    "\n",
    "    # Get output for the last time step\n",
    "    lstm_last_output = outputs[-1]\n",
    "\n",
    "    return tf.matmul(lstm_last_output, W['output']) + biases['output']"
   ]
  },
  {
   "cell_type": "code",
   "execution_count": 9,
   "metadata": {},
   "outputs": [],
   "source": [
    "tf.reset_default_graph()\n",
    "\n",
    "X = tf.placeholder(tf.float32, [None, N_TIME_STEPS, N_FEATURES], name=\"input\")\n",
    "Y = tf.placeholder(tf.float32, [None, N_CLASSES])"
   ]
  },
  {
   "cell_type": "code",
   "execution_count": 10,
   "metadata": {},
   "outputs": [
    {
     "name": "stdout",
     "output_type": "stream",
     "text": [
      "WARNING:tensorflow:From C:\\Apps\\Anaconda3\\lib\\site-packages\\tensorflow\\python\\framework\\op_def_library.py:263: colocate_with (from tensorflow.python.framework.ops) is deprecated and will be removed in a future version.\n",
      "Instructions for updating:\n",
      "Colocations handled automatically by placer.\n",
      "\n",
      "WARNING: The TensorFlow contrib module will not be included in TensorFlow 2.0.\n",
      "For more information, please see:\n",
      "  * https://github.com/tensorflow/community/blob/master/rfcs/20180907-contrib-sunset.md\n",
      "  * https://github.com/tensorflow/addons\n",
      "If you depend on functionality not listed there, please file an issue.\n",
      "\n",
      "WARNING:tensorflow:From <ipython-input-8-c8ae7df74e6e>:17: BasicLSTMCell.__init__ (from tensorflow.python.ops.rnn_cell_impl) is deprecated and will be removed in a future version.\n",
      "Instructions for updating:\n",
      "This class is equivalent as tf.keras.layers.LSTMCell, and will be replaced by that in Tensorflow 2.0.\n",
      "WARNING:tensorflow:From <ipython-input-8-c8ae7df74e6e>:18: MultiRNNCell.__init__ (from tensorflow.python.ops.rnn_cell_impl) is deprecated and will be removed in a future version.\n",
      "Instructions for updating:\n",
      "This class is equivalent as tf.keras.layers.StackedRNNCells, and will be replaced by that in Tensorflow 2.0.\n",
      "WARNING:tensorflow:From <ipython-input-8-c8ae7df74e6e>:20: static_rnn (from tensorflow.python.ops.rnn) is deprecated and will be removed in a future version.\n",
      "Instructions for updating:\n",
      "Please use `keras.layers.RNN(cell, unroll=True)`, which is equivalent to this API\n"
     ]
    }
   ],
   "source": [
    "pred_Y = create_LSTM_model(X)\n",
    "\n",
    "pred_softmax = tf.nn.softmax(pred_Y, name=\"y_\")"
   ]
  },
  {
   "cell_type": "code",
   "execution_count": 11,
   "metadata": {},
   "outputs": [],
   "source": [
    "L2_LOSS = 0.0015\n",
    "\n",
    "l2 = L2_LOSS * \\\n",
    "    sum(tf.nn.l2_loss(tf_var) for tf_var in tf.trainable_variables())\n",
    "\n",
    "loss = tf.reduce_mean(tf.nn.softmax_cross_entropy_with_logits_v2(logits = pred_Y, labels = Y)) + l2"
   ]
  },
  {
   "cell_type": "code",
   "execution_count": 12,
   "metadata": {},
   "outputs": [],
   "source": [
    "LEARNING_RATE = 0.0025\n",
    "\n",
    "optimizer = tf.train.AdamOptimizer(learning_rate=LEARNING_RATE).minimize(loss)\n",
    "\n",
    "correct_pred = tf.equal(tf.argmax(pred_softmax, 1), tf.argmax(Y, 1))\n",
    "accuracy = tf.reduce_mean(tf.cast(correct_pred, dtype=tf.float32))"
   ]
  },
  {
   "cell_type": "markdown",
   "metadata": {},
   "source": [
    "# Training"
   ]
  },
  {
   "cell_type": "code",
   "execution_count": 13,
   "metadata": {},
   "outputs": [],
   "source": [
    "N_EPOCHS = 50  # 50\n",
    "BATCH_SIZE = 1024  # 1024"
   ]
  },
  {
   "cell_type": "code",
   "execution_count": 14,
   "metadata": {},
   "outputs": [
    {
     "name": "stdout",
     "output_type": "stream",
     "text": [
      "epoch: 1 test accuracy: 0.5416940450668335 loss: 6.690446376800537\n",
      "epoch: 2 test accuracy: 0.5787261724472046 loss: 6.119988441467285\n",
      "epoch: 3 test accuracy: 0.625476062297821 loss: 5.589500427246094\n",
      "epoch: 4 test accuracy: 0.6258699893951416 loss: 5.1265153884887695\n",
      "epoch: 5 test accuracy: 0.665134608745575 loss: 4.686596870422363\n",
      "epoch: 6 test accuracy: 0.671569287776947 loss: 4.304652214050293\n",
      "epoch: 7 test accuracy: 0.6757714748382568 loss: 3.9782795906066895\n",
      "epoch: 8 test accuracy: 0.673276424407959 loss: 3.660496234893799\n",
      "epoch: 9 test accuracy: 0.6808930039405823 loss: 3.3777098655700684\n",
      "epoch: 10 test accuracy: 0.6916611790657043 loss: 3.1333065032958984\n",
      "epoch: 11 test accuracy: 0.670518696308136 loss: 2.9155452251434326\n",
      "epoch: 12 test accuracy: 0.6411030888557434 loss: 2.7435379028320312\n",
      "epoch: 13 test accuracy: 0.7020354270935059 loss: 2.512754440307617\n",
      "epoch: 14 test accuracy: 0.7135915756225586 loss: 2.329660654067993\n",
      "epoch: 15 test accuracy: 0.719369649887085 loss: 2.176732063293457\n",
      "epoch: 16 test accuracy: 0.7305318713188171 loss: 2.037513494491577\n",
      "epoch: 17 test accuracy: 0.7372291684150696 loss: 1.9044134616851807\n",
      "epoch: 18 test accuracy: 0.7536441087722778 loss: 1.7864973545074463\n",
      "epoch: 19 test accuracy: 0.7457649111747742 loss: 1.7140083312988281\n",
      "epoch: 20 test accuracy: 0.7608667016029358 loss: 1.6078414916992188\n",
      "epoch: 21 test accuracy: 0.7464215159416199 loss: 1.552066683769226\n",
      "epoch: 22 test accuracy: 0.7772817015647888 loss: 1.4457359313964844\n",
      "epoch: 23 test accuracy: 0.7738673686981201 loss: 1.390912652015686\n",
      "epoch: 24 test accuracy: 0.7738673686981201 loss: 1.3277928829193115\n",
      "epoch: 25 test accuracy: 0.7875246405601501 loss: 1.2514958381652832\n",
      "epoch: 26 test accuracy: 0.7789888381958008 loss: 1.2324509620666504\n",
      "epoch: 27 test accuracy: 0.8057780861854553 loss: 1.1501511335372925\n",
      "epoch: 28 test accuracy: 0.7971109747886658 loss: 1.1095561981201172\n",
      "epoch: 29 test accuracy: 0.7696651220321655 loss: 1.1256053447723389\n",
      "epoch: 30 test accuracy: 0.8130006790161133 loss: 1.0307726860046387\n",
      "epoch: 31 test accuracy: 0.8105055689811707 loss: 1.0069398880004883\n",
      "epoch: 32 test accuracy: 0.8077478408813477 loss: 0.9754747152328491\n",
      "epoch: 33 test accuracy: 0.8112934827804565 loss: 0.9714014530181885\n",
      "epoch: 34 test accuracy: 0.8223243355751038 loss: 0.9079573154449463\n",
      "epoch: 35 test accuracy: 0.8278397917747498 loss: 0.8890734910964966\n",
      "epoch: 36 test accuracy: 0.83269864320755 loss: 0.8476711511611938\n",
      "epoch: 37 test accuracy: 0.7947472333908081 loss: 0.9391894340515137\n",
      "epoch: 38 test accuracy: 0.8401838541030884 loss: 0.8295049667358398\n",
      "epoch: 39 test accuracy: 0.8263952732086182 loss: 0.8177465200424194\n",
      "epoch: 40 test accuracy: 0.8404464721679688 loss: 0.8062329888343811\n",
      "epoch: 41 test accuracy: 0.8015758395195007 loss: 0.8817708492279053\n",
      "epoch: 42 test accuracy: 0.8214051127433777 loss: 0.7969069480895996\n",
      "epoch: 43 test accuracy: 0.8242941498756409 loss: 0.7675203084945679\n",
      "epoch: 44 test accuracy: 0.8374261260032654 loss: 0.7435671091079712\n",
      "epoch: 45 test accuracy: 0.8307288289070129 loss: 0.7698949575424194\n",
      "epoch: 46 test accuracy: 0.8334865570068359 loss: 0.7174335718154907\n",
      "epoch: 47 test accuracy: 0.7880498766899109 loss: 0.8629393577575684\n",
      "epoch: 48 test accuracy: 0.7977675795555115 loss: 0.7987227439880371\n",
      "epoch: 49 test accuracy: 0.7858174443244934 loss: 0.8182951807975769\n",
      "epoch: 50 test accuracy: 0.795403778553009 loss: 0.7906839847564697\n",
      "\n",
      "final results: accuracy: 0.795403778553009 loss: 0.7906839847564697\n"
     ]
    }
   ],
   "source": [
    "# https://medium.com/@curiousily/human-activity-recognition-using-lstms-on-android-tensorflow-for-hackers-part-vi-492da5adef64\n",
    "saver = tf.train.Saver()\n",
    "\n",
    "history = dict(train_loss=[], \n",
    "                     train_acc=[], \n",
    "                     test_loss=[], \n",
    "                     test_acc=[])\n",
    "\n",
    "sess=tf.InteractiveSession()\n",
    "sess.run(tf.global_variables_initializer())\n",
    "\n",
    "train_count = len(X_train)\n",
    "\n",
    "for i in range(1, N_EPOCHS + 1):\n",
    "    for start, end in zip(range(0, train_count, BATCH_SIZE),\n",
    "                          range(BATCH_SIZE, train_count + 1,BATCH_SIZE)):\n",
    "        sess.run(optimizer, feed_dict={X: X_train[start:end],\n",
    "                                       Y: y_train[start:end]})\n",
    "\n",
    "    _, acc_train, loss_train = sess.run([pred_softmax, accuracy, loss], feed_dict={\n",
    "                                            X: X_train, Y: y_train})\n",
    "\n",
    "    _, acc_test, loss_test = sess.run([pred_softmax, accuracy, loss], feed_dict={\n",
    "                                            X: X_test, Y: y_test})\n",
    "\n",
    "    history['train_loss'].append(loss_train)\n",
    "    history['train_acc'].append(acc_train)\n",
    "    history['test_loss'].append(loss_test)\n",
    "    history['test_acc'].append(acc_test)\n",
    "\n",
    "#     if i != 1 and i % 10 != 0:\n",
    "#         continue\n",
    "\n",
    "    print(f'epoch: {i} test accuracy: {acc_test} loss: {loss_test}')\n",
    "    \n",
    "predictions, acc_final, loss_final = sess.run([pred_softmax, accuracy, loss], feed_dict={X: X_test, Y: y_test})\n",
    "\n",
    "print()\n",
    "print(f'final results: accuracy: {acc_final} loss: {loss_final}')"
   ]
  },
  {
   "cell_type": "markdown",
   "metadata": {},
   "source": [
    "# Evaluation"
   ]
  },
  {
   "cell_type": "code",
   "execution_count": 15,
   "metadata": {},
   "outputs": [
    {
     "data": {
      "image/png": "[encoded data removed]",
      "text/plain": [
       "<Figure size 864x576 with 1 Axes>"
      ]
     },
     "metadata": {},
     "output_type": "display_data"
    }
   ],
   "source": [
    "# https://medium.com/@curiousily/human-activity-recognition-using-lstms-on-android-tensorflow-for-hackers-part-vi-492da5adef64\n",
    "plt.figure(figsize=(12, 8))\n",
    "\n",
    "plt.plot(np.array(history['train_loss']), \"r--\", label=\"Train loss\")\n",
    "plt.plot(np.array(history['train_acc']), \"g--\", label=\"Train accuracy\")\n",
    "\n",
    "plt.plot(np.array(history['test_loss']), \"r-\", label=\"Test loss\")\n",
    "plt.plot(np.array(history['test_acc']), \"g-\", label=\"Test accuracy\")\n",
    "\n",
    "plt.title(\"Training session's progress over iterations\")\n",
    "plt.legend(loc='upper right', shadow=True)\n",
    "plt.ylabel('Training Progress (Loss or Accuracy values)')\n",
    "plt.xlabel('Training Epoch')\n",
    "plt.ylim(0)\n",
    "\n",
    "plt.show()"
   ]
  },
  {
   "cell_type": "markdown",
   "metadata": {},
   "source": [
    "# Saving Model"
   ]
  },
  {
   "cell_type": "code",
   "execution_count": 16,
   "metadata": {},
   "outputs": [],
   "source": [
    "import os\n",
    "\n",
    "file_info = [N_HIDDEN_UNITS, BATCH_SIZE, N_EPOCHS]\n",
    "\n",
    "dirname = os.path.dirname(\"nhid-{}_bat-{}_nepoc-{}/dumps/\".format(*file_info))\n",
    "if not os.path.exists(dirname):\n",
    "    os.makedirs(dirname)\n",
    "dirname = os.path.dirname(\"nhid-{}_bat-{}_nepoc-{}/logs/\".format(*file_info))\n",
    "if not os.path.exists(dirname):\n",
    "    os.makedirs(dirname)\n",
    "\n",
    "pickle.dump(predictions, open(\"nhid-{}_bat-{}_nepoc-{}/dumps/predictions.p\".format(*file_info), \"wb\"))\n",
    "pickle.dump(history, open(\"nhid-{}_bat-{}_nepoc-{}/dumps/history.p\".format(*file_info), \"wb\"))\n",
    "tf.train.write_graph(sess.graph, \"nhid-{}_bat-{}_nepoc-{}/logs\".format(*file_info), 'har.pbtxt')  \n",
    "saver.save(sess, 'nhid-{}_bat-{}_nepoc-{}/logs/har.ckpt'.format(*file_info))\n",
    "\n",
    "writer = tf.summary.FileWriter('nhid-{}_bat-{}_nepoc-{}/logs'.format(*file_info))\n",
    "writer.add_graph(sess.graph)"
   ]
  }
 ],
 "metadata": {
  "kernelspec": {
   "display_name": "Python 3",
   "language": "python",
   "name": "python3"
  },
  "language_info": {
   "codemirror_mode": {
    "name": "ipython",
    "version": 3
   },
   "file_extension": ".py",
   "mimetype": "text/x-python",
   "name": "python",
   "nbconvert_exporter": "python",
   "pygments_lexer": "ipython3",
   "version": "3.7.0"
  }
 },
 "nbformat": 4,
 "nbformat_minor": 2
}
