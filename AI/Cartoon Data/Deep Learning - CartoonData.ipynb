{
 "cells": [
  {
   "cell_type": "code",
   "execution_count": 1,
   "metadata": {},
   "outputs": [
    {
     "name": "stderr",
     "output_type": "stream",
     "text": [
      "C:\\Apps\\Anaconda3\\lib\\site-packages\\h5py\\__init__.py:36: FutureWarning: Conversion of the second argument of issubdtype from `float` to `np.floating` is deprecated. In future, it will be treated as `np.float64 == np.dtype(float).type`.\n",
      "  from ._conv import register_converters as _register_converters\n"
     ]
    }
   ],
   "source": [
    "import pandas as pd\n",
    "import numpy as np\n",
    "import pickle\n",
    "import matplotlib.pyplot as plt\n",
    "from scipy import stats\n",
    "import tensorflow as tf\n",
    "import seaborn as sns\n",
    "from pylab import rcParams\n",
    "from sklearn import metrics\n",
    "from sklearn.model_selection import train_test_split\n",
    "from sklearn.preprocessing import StandardScaler\n",
    "\n",
    "%matplotlib inline\n",
    "\n",
    "sns.set(style='whitegrid', palette='muted', font_scale=1.5)\n",
    "\n",
    "rcParams['figure.figsize'] = 14, 8\n",
    "\n",
    "RANDOM_SEED = 42"
   ]
  },
  {
   "cell_type": "code",
   "execution_count": 2,
   "metadata": {},
   "outputs": [
    {
     "name": "stdout",
     "output_type": "stream",
     "text": [
      "<class 'pandas.core.frame.DataFrame'>\n",
      "RangeIndex: 381000 entries, 0 to 380999\n",
      "Columns: 129 entries, CH1 to Label\n",
      "dtypes: float64(129)\n",
      "memory usage: 375.0 MB\n"
     ]
    }
   ],
   "source": [
    "df=pd.read_csv('CartoonData.csv')\n",
    "# df.head(22)\n",
    "df.info()"
   ]
  },
  {
   "cell_type": "code",
   "execution_count": 3,
   "metadata": {},
   "outputs": [],
   "source": [
    "N_TIME_STEPS = 250\n",
    "N_FEATURES = 128 #128\n",
    "step = 10 # 20\n",
    "segments = []\n",
    "for i in range(0, len(df) - N_TIME_STEPS, step):\n",
    "    ch = []\n",
    "    for j in range(0, N_FEATURES):\n",
    "        ch.append(df.iloc[:, j].values[i: i + N_TIME_STEPS])\n",
    "    segments.append(ch)"
   ]
  },
  {
   "cell_type": "code",
   "execution_count": 4,
   "metadata": {},
   "outputs": [],
   "source": [
    "labels = []\n",
    "for i in range(0, len(df) - N_TIME_STEPS, step):\n",
    "    label = stats.mode(df['Label'][i: i + N_TIME_STEPS])[0][0]\n",
    "    labels.append(label)\n",
    "labelsl = np.asarray(pd.get_dummies(labels), dtype = np.float32)\n",
    "#print(labelsl)"
   ]
  },
  {
   "cell_type": "code",
   "execution_count": 5,
   "metadata": {},
   "outputs": [],
   "source": [
    "reshaped_segments = np.asarray(segments, dtype= np.float32).reshape(-1, N_TIME_STEPS, N_FEATURES)\n",
    "X_train, X_test, y_train, y_test = train_test_split(\n",
    "        reshaped_segments, labelsl, test_size=0.2, random_state=RANDOM_SEED)"
   ]
  },
  {
   "cell_type": "code",
   "execution_count": 6,
   "metadata": {},
   "outputs": [
    {
     "name": "stdout",
     "output_type": "stream",
     "text": [
      "(38075, 128, 250) (38075, 250, 128) [1. 0.] 30460 7615\n"
     ]
    }
   ],
   "source": [
    "print(np.array(segments).shape, reshaped_segments.shape, labelsl[0], len(X_train), len(X_test))"
   ]
  },
  {
   "cell_type": "markdown",
   "metadata": {},
   "source": [
    "# Building the model"
   ]
  },
  {
   "cell_type": "code",
   "execution_count": 7,
   "metadata": {},
   "outputs": [],
   "source": [
    "N_CLASSES = 2\n",
    "N_HIDDEN_UNITS = 64"
   ]
  },
  {
   "cell_type": "code",
   "execution_count": 8,
   "metadata": {},
   "outputs": [],
   "source": [
    "# https://medium.com/@curiousily/human-activity-recognition-using-lstms-on-android-tensorflow-for-hackers-part-vi-492da5adef64\n",
    "def create_LSTM_model(inputs):\n",
    "    W = {\n",
    "        'hidden': tf.Variable(tf.random_normal([N_FEATURES, N_HIDDEN_UNITS])),\n",
    "        'output': tf.Variable(tf.random_normal([N_HIDDEN_UNITS, N_CLASSES]))\n",
    "    }\n",
    "    biases = {\n",
    "        'hidden': tf.Variable(tf.random_normal([N_HIDDEN_UNITS], mean=1.0)),\n",
    "        'output': tf.Variable(tf.random_normal([N_CLASSES]))\n",
    "    }\n",
    "    \n",
    "    X = tf.transpose(inputs, [1, 0, 2])\n",
    "    X = tf.reshape(X, [-1, N_FEATURES])\n",
    "    hidden = tf.nn.relu(tf.matmul(X, W['hidden']) + biases['hidden'])\n",
    "    hidden = tf.split(hidden, N_TIME_STEPS, 0)\n",
    "\n",
    "    # Stack 2 LSTM layers\n",
    "    lstm_layers = [tf.contrib.rnn.BasicLSTMCell(N_HIDDEN_UNITS, forget_bias=1.0) for _ in range(2)]\n",
    "    lstm_layers = tf.contrib.rnn.MultiRNNCell(lstm_layers)\n",
    "\n",
    "    outputs, _ = tf.contrib.rnn.static_rnn(lstm_layers, hidden, dtype=tf.float32)\n",
    "\n",
    "    # Get output for the last time step\n",
    "    lstm_last_output = outputs[-1]\n",
    "\n",
    "    return tf.matmul(lstm_last_output, W['output']) + biases['output']"
   ]
  },
  {
   "cell_type": "code",
   "execution_count": 9,
   "metadata": {},
   "outputs": [],
   "source": [
    "tf.reset_default_graph()\n",
    "\n",
    "X = tf.placeholder(tf.float32, [None, N_TIME_STEPS, N_FEATURES], name=\"input\")\n",
    "Y = tf.placeholder(tf.float32, [None, N_CLASSES])"
   ]
  },
  {
   "cell_type": "code",
   "execution_count": 10,
   "metadata": {},
   "outputs": [
    {
     "name": "stdout",
     "output_type": "stream",
     "text": [
      "WARNING:tensorflow:From C:\\Apps\\Anaconda3\\lib\\site-packages\\tensorflow\\python\\framework\\op_def_library.py:263: colocate_with (from tensorflow.python.framework.ops) is deprecated and will be removed in a future version.\n",
      "Instructions for updating:\n",
      "Colocations handled automatically by placer.\n",
      "\n",
      "WARNING: The TensorFlow contrib module will not be included in TensorFlow 2.0.\n",
      "For more information, please see:\n",
      "  * https://github.com/tensorflow/community/blob/master/rfcs/20180907-contrib-sunset.md\n",
      "  * https://github.com/tensorflow/addons\n",
      "If you depend on functionality not listed there, please file an issue.\n",
      "\n",
      "WARNING:tensorflow:From <ipython-input-8-c8ae7df74e6e>:17: BasicLSTMCell.__init__ (from tensorflow.python.ops.rnn_cell_impl) is deprecated and will be removed in a future version.\n",
      "Instructions for updating:\n",
      "This class is equivalent as tf.keras.layers.LSTMCell, and will be replaced by that in Tensorflow 2.0.\n",
      "WARNING:tensorflow:From <ipython-input-8-c8ae7df74e6e>:18: MultiRNNCell.__init__ (from tensorflow.python.ops.rnn_cell_impl) is deprecated and will be removed in a future version.\n",
      "Instructions for updating:\n",
      "This class is equivalent as tf.keras.layers.StackedRNNCells, and will be replaced by that in Tensorflow 2.0.\n",
      "WARNING:tensorflow:From <ipython-input-8-c8ae7df74e6e>:20: static_rnn (from tensorflow.python.ops.rnn) is deprecated and will be removed in a future version.\n",
      "Instructions for updating:\n",
      "Please use `keras.layers.RNN(cell, unroll=True)`, which is equivalent to this API\n"
     ]
    }
   ],
   "source": [
    "pred_Y = create_LSTM_model(X)\n",
    "\n",
    "pred_softmax = tf.nn.softmax(pred_Y, name=\"y_\")"
   ]
  },
  {
   "cell_type": "code",
   "execution_count": 11,
   "metadata": {},
   "outputs": [],
   "source": [
    "L2_LOSS = 0.0015\n",
    "\n",
    "l2 = L2_LOSS * \\\n",
    "    sum(tf.nn.l2_loss(tf_var) for tf_var in tf.trainable_variables())\n",
    "\n",
    "loss = tf.reduce_mean(tf.nn.softmax_cross_entropy_with_logits_v2(logits = pred_Y, labels = Y)) + l2"
   ]
  },
  {
   "cell_type": "code",
   "execution_count": 12,
   "metadata": {},
   "outputs": [],
   "source": [
    "LEARNING_RATE = 0.0025\n",
    "\n",
    "optimizer = tf.train.AdamOptimizer(learning_rate=LEARNING_RATE).minimize(loss)\n",
    "\n",
    "correct_pred = tf.equal(tf.argmax(pred_softmax, 1), tf.argmax(Y, 1))\n",
    "accuracy = tf.reduce_mean(tf.cast(correct_pred, dtype=tf.float32))"
   ]
  },
  {
   "cell_type": "markdown",
   "metadata": {},
   "source": [
    "# Training"
   ]
  },
  {
   "cell_type": "code",
   "execution_count": 13,
   "metadata": {},
   "outputs": [],
   "source": [
    "N_EPOCHS = 50  # 50\n",
    "BATCH_SIZE = 1024  # 1024"
   ]
  },
  {
   "cell_type": "code",
   "execution_count": 14,
   "metadata": {},
   "outputs": [
    {
     "name": "stdout",
     "output_type": "stream",
     "text": [
      "epoch: 1 test accuracy: 0.524753749370575 loss: 6.822693347930908\n",
      "epoch: 2 test accuracy: 0.5683519244194031 loss: 6.270423412322998\n",
      "epoch: 3 test accuracy: 0.5918581485748291 loss: 5.75119686126709\n",
      "epoch: 4 test accuracy: 0.6313854455947876 loss: 5.266411781311035\n",
      "epoch: 5 test accuracy: 0.6432042121887207 loss: 4.830355167388916\n",
      "epoch: 6 test accuracy: 0.6407091021537781 loss: 4.449855327606201\n",
      "epoch: 7 test accuracy: 0.6650032997131348 loss: 4.087071895599365\n",
      "epoch: 8 test accuracy: 0.6702560782432556 loss: 3.7760627269744873\n",
      "epoch: 9 test accuracy: 0.6894287467002869 loss: 3.4861316680908203\n",
      "epoch: 10 test accuracy: 0.6718319058418274 loss: 3.2526392936706543\n",
      "epoch: 11 test accuracy: 0.7062376737594604 loss: 2.9908645153045654\n",
      "epoch: 12 test accuracy: 0.6898227334022522 loss: 2.7923262119293213\n",
      "epoch: 13 test accuracy: 0.637032151222229 loss: 2.672496795654297\n",
      "epoch: 14 test accuracy: 0.6937623023986816 loss: 2.457026720046997\n",
      "epoch: 15 test accuracy: 0.7180564403533936 loss: 2.273679256439209\n",
      "epoch: 16 test accuracy: 0.7277741432189941 loss: 2.1227798461914062\n",
      "epoch: 17 test accuracy: 0.7355219721794128 loss: 1.9904974699020386\n",
      "epoch: 18 test accuracy: 0.7339461445808411 loss: 1.8718764781951904\n",
      "epoch: 19 test accuracy: 0.7305318713188171 loss: 1.7815327644348145\n",
      "epoch: 20 test accuracy: 0.7699277997016907 loss: 1.637171745300293\n",
      "epoch: 21 test accuracy: 0.7663821578025818 loss: 1.557978868484497\n",
      "epoch: 22 test accuracy: 0.7762311100959778 loss: 1.4698755741119385\n",
      "epoch: 23 test accuracy: 0.7695338129997253 loss: 1.418097972869873\n",
      "epoch: 24 test accuracy: 0.7455022931098938 loss: 1.374850869178772\n",
      "epoch: 25 test accuracy: 0.7770190238952637 loss: 1.2693471908569336\n",
      "epoch: 26 test accuracy: 0.7888377904891968 loss: 1.209632158279419\n",
      "epoch: 27 test accuracy: 0.7921208143234253 loss: 1.156017541885376\n",
      "epoch: 28 test accuracy: 0.7906762957572937 loss: 1.1180636882781982\n",
      "epoch: 29 test accuracy: 0.8010505437850952 loss: 1.0536960363388062\n",
      "epoch: 30 test accuracy: 0.7743926644325256 loss: 1.0713568925857544\n",
      "epoch: 31 test accuracy: 0.809848964214325 loss: 0.9855362176895142\n",
      "epoch: 32 test accuracy: 0.7993434071540833 loss: 0.9762628078460693\n",
      "epoch: 33 test accuracy: 0.8112934827804565 loss: 0.9341557025909424\n",
      "epoch: 34 test accuracy: 0.810899555683136 loss: 0.9054226875305176\n",
      "epoch: 35 test accuracy: 0.8157583475112915 loss: 0.8929468393325806\n",
      "epoch: 36 test accuracy: 0.8383453488349915 loss: 0.8302252888679504\n",
      "epoch: 37 test accuracy: 0.8242941498756409 loss: 0.8367080688476562\n",
      "epoch: 38 test accuracy: 0.8017071485519409 loss: 0.8674279451370239\n",
      "epoch: 39 test accuracy: 0.8426789045333862 loss: 0.7637521028518677\n",
      "epoch: 40 test accuracy: 0.827183187007904 loss: 0.792822003364563\n",
      "epoch: 41 test accuracy: 0.8421536684036255 loss: 0.7573815584182739\n",
      "epoch: 42 test accuracy: 0.7929087281227112 loss: 0.8364015817642212\n",
      "epoch: 43 test accuracy: 0.8390019536018372 loss: 0.7373431921005249\n",
      "epoch: 44 test accuracy: 0.81904137134552 loss: 0.7936467528343201\n",
      "epoch: 45 test accuracy: 0.8374261260032654 loss: 0.7152966260910034\n",
      "epoch: 46 test accuracy: 0.8491135835647583 loss: 0.7120305299758911\n",
      "epoch: 47 test accuracy: 0.8391332626342773 loss: 0.6865761280059814\n",
      "epoch: 48 test accuracy: 0.8302035331726074 loss: 0.7199854254722595\n",
      "epoch: 49 test accuracy: 0.8588312268257141 loss: 0.6345462203025818\n",
      "epoch: 50 test accuracy: 0.8311227560043335 loss: 0.7184323668479919\n",
      "\n",
      "final results: accuracy: 0.8311227560043335 loss: 0.7184323668479919\n"
     ]
    }
   ],
   "source": [
    "# https://medium.com/@curiousily/human-activity-recognition-using-lstms-on-android-tensorflow-for-hackers-part-vi-492da5adef64\n",
    "saver = tf.train.Saver()\n",
    "\n",
    "history = dict(train_loss=[], \n",
    "                     train_acc=[], \n",
    "                     test_loss=[], \n",
    "                     test_acc=[])\n",
    "\n",
    "sess=tf.InteractiveSession()\n",
    "sess.run(tf.global_variables_initializer())\n",
    "\n",
    "train_count = len(X_train)\n",
    "\n",
    "for i in range(1, N_EPOCHS + 1):\n",
    "    for start, end in zip(range(0, train_count, BATCH_SIZE),\n",
    "                          range(BATCH_SIZE, train_count + 1,BATCH_SIZE)):\n",
    "        sess.run(optimizer, feed_dict={X: X_train[start:end],\n",
    "                                       Y: y_train[start:end]})\n",
    "\n",
    "    _, acc_train, loss_train = sess.run([pred_softmax, accuracy, loss], feed_dict={\n",
    "                                            X: X_train, Y: y_train})\n",
    "\n",
    "    _, acc_test, loss_test = sess.run([pred_softmax, accuracy, loss], feed_dict={\n",
    "                                            X: X_test, Y: y_test})\n",
    "\n",
    "    history['train_loss'].append(loss_train)\n",
    "    history['train_acc'].append(acc_train)\n",
    "    history['test_loss'].append(loss_test)\n",
    "    history['test_acc'].append(acc_test)\n",
    "\n",
    "#     if i != 1 and i % 10 != 0:\n",
    "#         continue\n",
    "\n",
    "    print(f'epoch: {i} test accuracy: {acc_test} loss: {loss_test}')\n",
    "    \n",
    "predictions, acc_final, loss_final = sess.run([pred_softmax, accuracy, loss], feed_dict={X: X_test, Y: y_test})\n",
    "\n",
    "print()\n",
    "print(f'final results: accuracy: {acc_final} loss: {loss_final}')"
   ]
  },
  {
   "cell_type": "markdown",
   "metadata": {},
   "source": [
    "# Evaluation"
   ]
  },
  {
   "cell_type": "code",
   "execution_count": 15,
   "metadata": {},
   "outputs": [
    {
     "data": {
      "image/png": "[encoded data removed]",
      "text/plain": [
       "<Figure size 864x576 with 1 Axes>"
      ]
     },
     "metadata": {},
     "output_type": "display_data"
    }
   ],
   "source": [
    "# https://medium.com/@curiousily/human-activity-recognition-using-lstms-on-android-tensorflow-for-hackers-part-vi-492da5adef64\n",
    "plt.figure(figsize=(12, 8))\n",
    "\n",
    "plt.plot(np.array(history['train_loss']), \"r--\", label=\"Train loss\")\n",
    "plt.plot(np.array(history['train_acc']), \"g--\", label=\"Train accuracy\")\n",
    "\n",
    "plt.plot(np.array(history['test_loss']), \"r-\", label=\"Test loss\")\n",
    "plt.plot(np.array(history['test_acc']), \"g-\", label=\"Test accuracy\")\n",
    "\n",
    "plt.title(\"Training session's progress over iterations\")\n",
    "plt.legend(loc='upper right', shadow=True)\n",
    "plt.ylabel('Training Progress (Loss or Accuracy values)')\n",
    "plt.xlabel('Training Epoch')\n",
    "plt.ylim(0)\n",
    "\n",
    "plt.show()"
   ]
  },
  {
   "cell_type": "markdown",
   "metadata": {},
   "source": [
    "# Saving Model"
   ]
  },
  {
   "cell_type": "code",
   "execution_count": 16,
   "metadata": {},
   "outputs": [],
   "source": [
    "import os\n",
    "\n",
    "file_info = [N_HIDDEN_UNITS, BATCH_SIZE, N_EPOCHS]\n",
    "\n",
    "dirname = os.path.dirname(\"nhid-{}_bat-{}_nepoc-{}/dumps/\".format(*file_info))\n",
    "if not os.path.exists(dirname):\n",
    "    os.makedirs(dirname)\n",
    "dirname = os.path.dirname(\"nhid-{}_bat-{}_nepoc-{}/logs/\".format(*file_info))\n",
    "if not os.path.exists(dirname):\n",
    "    os.makedirs(dirname)\n",
    "\n",
    "pickle.dump(predictions, open(\"nhid-{}_bat-{}_nepoc-{}/dumps/predictions.p\".format(*file_info), \"wb\"))\n",
    "pickle.dump(history, open(\"nhid-{}_bat-{}_nepoc-{}/dumps/history.p\".format(*file_info), \"wb\"))\n",
    "tf.train.write_graph(sess.graph, \"nhid-{}_bat-{}_nepoc-{}/logs\".format(*file_info), 'har.pbtxt')  \n",
    "saver.save(sess, 'nhid-{}_bat-{}_nepoc-{}/logs/har.ckpt'.format(*file_info))\n",
    "\n",
    "writer = tf.summary.FileWriter('nhid-{}_bat-{}_nepoc-{}/logs'.format(*file_info))\n",
    "writer.add_graph(sess.graph)"
   ]
  }
 ],
 "metadata": {
  "kernelspec": {
   "display_name": "Python 3",
   "language": "python",
   "name": "python3"
  },
  "language_info": {
   "codemirror_mode": {
    "name": "ipython",
    "version": 3
   },
   "file_extension": ".py",
   "mimetype": "text/x-python",
   "name": "python",
   "nbconvert_exporter": "python",
   "pygments_lexer": "ipython3",
   "version": "3.7.0"
  }
 },
 "nbformat": 4,
 "nbformat_minor": 2
}
